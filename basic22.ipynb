{
 "cells": [
  {
   "cell_type": "markdown",
   "id": "a1d4b1bd",
   "metadata": {},
   "source": [
    "### 1. What is the result of the code, and explain?\n",
    "\n"
   ]
  },
  {
   "cell_type": "code",
   "execution_count": 1,
   "id": "3721fb95",
   "metadata": {},
   "outputs": [],
   "source": [
    "x  = \"ineuron\"\n",
    "def func():\n",
    "    print(x)\n"
   ]
  },
  {
   "cell_type": "code",
   "execution_count": 2,
   "id": "97a3d8d6",
   "metadata": {},
   "outputs": [
    {
     "name": "stdout",
     "output_type": "stream",
     "text": [
      "ineuron\n"
     ]
    }
   ],
   "source": [
    "output = func()\n",
    "output"
   ]
  },
  {
   "cell_type": "markdown",
   "id": "739341ee",
   "metadata": {},
   "source": [
    "### 2. What is the result of the code, and explain?\n",
    "\n"
   ]
  },
  {
   "cell_type": "code",
   "execution_count": 9,
   "id": "fd0eab18",
   "metadata": {},
   "outputs": [
    {
     "name": "stdout",
     "output_type": "stream",
     "text": [
      "ineuron\n"
     ]
    }
   ],
   "source": [
    "x  = \"ineuron\"\n",
    "def func2():\n",
    "    x = \"Nil\"\n",
    "    "
   ]
  },
  {
   "cell_type": "markdown",
   "id": "be9ab616",
   "metadata": {},
   "source": [
    "#### since return statemet is missing that why function is call only and the \n",
    "#### later ineruon print on console\n",
    "\n"
   ]
  },
  {
   "cell_type": "markdown",
   "id": "cafc65c6",
   "metadata": {},
   "source": [
    "### 4. What output does this code produce? Why?\n",
    "\n"
   ]
  },
  {
   "cell_type": "code",
   "execution_count": 22,
   "id": "e13757b5",
   "metadata": {},
   "outputs": [],
   "source": [
    "X = \"ineuron\"\n",
    "def func3():\n",
    "    global x \n",
    "    x = \"NI\"\n",
    "### we set global varibal x and change it's value from ineuron to \"ni\""
   ]
  },
  {
   "cell_type": "code",
   "execution_count": 23,
   "id": "942bd02a",
   "metadata": {},
   "outputs": [
    {
     "name": "stdout",
     "output_type": "stream",
     "text": [
      "ineuron\n"
     ]
    }
   ],
   "source": [
    "print(x)"
   ]
  },
  {
   "cell_type": "markdown",
   "id": "bc20fb88",
   "metadata": {},
   "source": [
    "### 5. What output does this code produce? Why?\n",
    "\n"
   ]
  },
  {
   "cell_type": "code",
   "execution_count": 54,
   "id": "f55a990c",
   "metadata": {},
   "outputs": [],
   "source": [
    "x =\"ineuron\"\n",
    "def func4():\n",
    "    x = \"ni\"\n",
    "    def nested():\n",
    "        print(x)\n",
    "    nested()\n",
    "    print(X)\n",
    "    \n",
    "### by using local variable same as global variable we cannot change it's value for that use global other wise global variable \n",
    "### value will remains the same\n",
    "### local variable first look into then moves up then global value "
   ]
  },
  {
   "cell_type": "markdown",
   "id": "0be7ad84",
   "metadata": {},
   "source": [
    "### 6. What output does this code produce? Why?\n",
    "\n"
   ]
  },
  {
   "cell_type": "code",
   "execution_count": 4,
   "id": "4229c2c2",
   "metadata": {},
   "outputs": [],
   "source": [
    "def func5():\n",
    "    x = \"ni\"\n",
    "    def nested():\n",
    "        nonlocal x\n",
    "        x = \"spam\"\n",
    "    nested()\n",
    "    print(x)"
   ]
  },
  {
   "cell_type": "code",
   "execution_count": 5,
   "id": "dc730bd7",
   "metadata": {},
   "outputs": [
    {
     "name": "stdout",
     "output_type": "stream",
     "text": [
      "spam\n"
     ]
    }
   ],
   "source": [
    "func5()"
   ]
  },
  {
   "cell_type": "code",
   "execution_count": null,
   "id": "13c7be37",
   "metadata": {},
   "outputs": [],
   "source": []
  }
 ],
 "metadata": {
  "kernelspec": {
   "display_name": "Python 3 (ipykernel)",
   "language": "python",
   "name": "python3"
  },
  "language_info": {
   "codemirror_mode": {
    "name": "ipython",
    "version": 3
   },
   "file_extension": ".py",
   "mimetype": "text/x-python",
   "name": "python",
   "nbconvert_exporter": "python",
   "pygments_lexer": "ipython3",
   "version": "3.10.9"
  }
 },
 "nbformat": 4,
 "nbformat_minor": 5
}
